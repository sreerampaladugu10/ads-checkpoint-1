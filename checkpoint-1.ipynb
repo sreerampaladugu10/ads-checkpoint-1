{
 "cells": [
  {
   "cell_type": "code",
   "execution_count": 8,
   "metadata": {
    "id": "9nfFX9jYn_dV"
   },
   "outputs": [],
   "source": [
    "import pandas as pd\n",
    "import numpy as np\n",
    "df = pd.read_excel(\"demographics.xlsx\")\n"
   ]
  },
  {
   "cell_type": "code",
   "execution_count": 9,
   "metadata": {
    "colab": {
     "base_uri": "https://localhost:8080/"
    },
    "id": "K79d6BUroNoF",
    "outputId": "1269d9f6-d0c3-472e-c685-940ecdbc653e"
   },
   "outputs": [
    {
     "data": {
      "text/plain": [
       "subject                0\n",
       "scan-number            0\n",
       "HC-AUD-match         261\n",
       "subject-group          0\n",
       "Study                  0\n",
       "Diagnosis              0\n",
       "Age                    2\n",
       "age-subject-group      2\n",
       "Sex                    0\n",
       "AUDIT-Total          287\n",
       "MMSE                 264\n",
       "dtype: int64"
      ]
     },
     "execution_count": 9,
     "metadata": {},
     "output_type": "execute_result"
    }
   ],
   "source": [
    "df.isna().sum()"
   ]
  },
  {
   "cell_type": "code",
   "execution_count": 10,
   "metadata": {
    "colab": {
     "base_uri": "https://localhost:8080/",
     "height": 463
    },
    "id": "kfOl-J7yoauF",
    "outputId": "e8a5da45-b0ff-4606-9426-329fadb7c73b"
   },
   "outputs": [
    {
     "data": {
      "text/html": [
       "<div>\n",
       "<style scoped>\n",
       "    .dataframe tbody tr th:only-of-type {\n",
       "        vertical-align: middle;\n",
       "    }\n",
       "\n",
       "    .dataframe tbody tr th {\n",
       "        vertical-align: top;\n",
       "    }\n",
       "\n",
       "    .dataframe thead th {\n",
       "        text-align: right;\n",
       "    }\n",
       "</style>\n",
       "<table border=\"1\" class=\"dataframe\">\n",
       "  <thead>\n",
       "    <tr style=\"text-align: right;\">\n",
       "      <th></th>\n",
       "      <th>subject</th>\n",
       "      <th>scan-number</th>\n",
       "      <th>HC-AUD-match</th>\n",
       "      <th>subject-group</th>\n",
       "      <th>Study</th>\n",
       "      <th>Diagnosis</th>\n",
       "      <th>Age</th>\n",
       "      <th>age-subject-group</th>\n",
       "      <th>Sex</th>\n",
       "      <th>AUDIT-Total</th>\n",
       "      <th>MMSE</th>\n",
       "    </tr>\n",
       "  </thead>\n",
       "  <tbody>\n",
       "    <tr>\n",
       "      <th>0</th>\n",
       "      <td>002_S_4171</td>\n",
       "      <td>1</td>\n",
       "      <td>NaN</td>\n",
       "      <td>AD-MCI</td>\n",
       "      <td>ADNI</td>\n",
       "      <td>MCI</td>\n",
       "      <td>69.00</td>\n",
       "      <td>elderly</td>\n",
       "      <td>M</td>\n",
       "      <td>NaN</td>\n",
       "      <td>24.0</td>\n",
       "    </tr>\n",
       "    <tr>\n",
       "      <th>1</th>\n",
       "      <td>002_S_4229</td>\n",
       "      <td>1</td>\n",
       "      <td>NaN</td>\n",
       "      <td>AD-MCI</td>\n",
       "      <td>ADNI</td>\n",
       "      <td>MCI</td>\n",
       "      <td>66.00</td>\n",
       "      <td>elderly</td>\n",
       "      <td>M</td>\n",
       "      <td>NaN</td>\n",
       "      <td>29.0</td>\n",
       "    </tr>\n",
       "    <tr>\n",
       "      <th>2</th>\n",
       "      <td>002_S_4473</td>\n",
       "      <td>1</td>\n",
       "      <td>NaN</td>\n",
       "      <td>AD-MCI</td>\n",
       "      <td>ADNI</td>\n",
       "      <td>MCI</td>\n",
       "      <td>75.00</td>\n",
       "      <td>elderly</td>\n",
       "      <td>M</td>\n",
       "      <td>NaN</td>\n",
       "      <td>27.0</td>\n",
       "    </tr>\n",
       "    <tr>\n",
       "      <th>3</th>\n",
       "      <td>002_S_4521</td>\n",
       "      <td>1</td>\n",
       "      <td>NaN</td>\n",
       "      <td>AD-MCI</td>\n",
       "      <td>ADNI</td>\n",
       "      <td>MCI</td>\n",
       "      <td>70.00</td>\n",
       "      <td>elderly</td>\n",
       "      <td>M</td>\n",
       "      <td>NaN</td>\n",
       "      <td>27.0</td>\n",
       "    </tr>\n",
       "    <tr>\n",
       "      <th>4</th>\n",
       "      <td>002_S_4799</td>\n",
       "      <td>1</td>\n",
       "      <td>NaN</td>\n",
       "      <td>AD-MCI</td>\n",
       "      <td>ADNI</td>\n",
       "      <td>MCI</td>\n",
       "      <td>68.00</td>\n",
       "      <td>elderly</td>\n",
       "      <td>M</td>\n",
       "      <td>NaN</td>\n",
       "      <td>29.0</td>\n",
       "    </tr>\n",
       "    <tr>\n",
       "      <th>...</th>\n",
       "      <td>...</td>\n",
       "      <td>...</td>\n",
       "      <td>...</td>\n",
       "      <td>...</td>\n",
       "      <td>...</td>\n",
       "      <td>...</td>\n",
       "      <td>...</td>\n",
       "      <td>...</td>\n",
       "      <td>...</td>\n",
       "      <td>...</td>\n",
       "      <td>...</td>\n",
       "    </tr>\n",
       "    <tr>\n",
       "      <th>310</th>\n",
       "      <td>1125R2</td>\n",
       "      <td>2</td>\n",
       "      <td>NaN</td>\n",
       "      <td>HC</td>\n",
       "      <td>IAM</td>\n",
       "      <td>HC</td>\n",
       "      <td>63.07</td>\n",
       "      <td>mid-life</td>\n",
       "      <td>F</td>\n",
       "      <td>NaN</td>\n",
       "      <td>NaN</td>\n",
       "    </tr>\n",
       "    <tr>\n",
       "      <th>311</th>\n",
       "      <td>1126R2</td>\n",
       "      <td>2</td>\n",
       "      <td>NaN</td>\n",
       "      <td>HC</td>\n",
       "      <td>IAM</td>\n",
       "      <td>HC</td>\n",
       "      <td>76.70</td>\n",
       "      <td>elderly</td>\n",
       "      <td>M</td>\n",
       "      <td>NaN</td>\n",
       "      <td>NaN</td>\n",
       "    </tr>\n",
       "    <tr>\n",
       "      <th>312</th>\n",
       "      <td>1127R2</td>\n",
       "      <td>2</td>\n",
       "      <td>NaN</td>\n",
       "      <td>HC</td>\n",
       "      <td>IAM</td>\n",
       "      <td>HC</td>\n",
       "      <td>56.98</td>\n",
       "      <td>mid-life</td>\n",
       "      <td>F</td>\n",
       "      <td>NaN</td>\n",
       "      <td>NaN</td>\n",
       "    </tr>\n",
       "    <tr>\n",
       "      <th>313</th>\n",
       "      <td>1128R2</td>\n",
       "      <td>2</td>\n",
       "      <td>NaN</td>\n",
       "      <td>HC</td>\n",
       "      <td>IAM</td>\n",
       "      <td>HC</td>\n",
       "      <td>55.37</td>\n",
       "      <td>mid-life</td>\n",
       "      <td>M</td>\n",
       "      <td>NaN</td>\n",
       "      <td>NaN</td>\n",
       "    </tr>\n",
       "    <tr>\n",
       "      <th>314</th>\n",
       "      <td>1132R2</td>\n",
       "      <td>2</td>\n",
       "      <td>NaN</td>\n",
       "      <td>HC</td>\n",
       "      <td>IAM</td>\n",
       "      <td>HC</td>\n",
       "      <td>NaN</td>\n",
       "      <td>NaN</td>\n",
       "      <td>F</td>\n",
       "      <td>NaN</td>\n",
       "      <td>NaN</td>\n",
       "    </tr>\n",
       "  </tbody>\n",
       "</table>\n",
       "<p>315 rows × 11 columns</p>\n",
       "</div>"
      ],
      "text/plain": [
       "        subject  scan-number  HC-AUD-match subject-group Study Diagnosis  \\\n",
       "0    002_S_4171            1           NaN        AD-MCI  ADNI       MCI   \n",
       "1    002_S_4229            1           NaN        AD-MCI  ADNI       MCI   \n",
       "2    002_S_4473            1           NaN        AD-MCI  ADNI       MCI   \n",
       "3    002_S_4521            1           NaN        AD-MCI  ADNI       MCI   \n",
       "4    002_S_4799            1           NaN        AD-MCI  ADNI       MCI   \n",
       "..          ...          ...           ...           ...   ...       ...   \n",
       "310      1125R2            2           NaN            HC   IAM        HC   \n",
       "311      1126R2            2           NaN            HC   IAM        HC   \n",
       "312      1127R2            2           NaN            HC   IAM        HC   \n",
       "313      1128R2            2           NaN            HC   IAM        HC   \n",
       "314      1132R2            2           NaN            HC   IAM        HC   \n",
       "\n",
       "       Age age-subject-group Sex  AUDIT-Total  MMSE  \n",
       "0    69.00           elderly   M          NaN  24.0  \n",
       "1    66.00           elderly   M          NaN  29.0  \n",
       "2    75.00           elderly   M          NaN  27.0  \n",
       "3    70.00           elderly   M          NaN  27.0  \n",
       "4    68.00           elderly   M          NaN  29.0  \n",
       "..     ...               ...  ..          ...   ...  \n",
       "310  63.07          mid-life   F          NaN   NaN  \n",
       "311  76.70           elderly   M          NaN   NaN  \n",
       "312  56.98          mid-life   F          NaN   NaN  \n",
       "313  55.37          mid-life   M          NaN   NaN  \n",
       "314    NaN               NaN   F          NaN   NaN  \n",
       "\n",
       "[315 rows x 11 columns]"
      ]
     },
     "execution_count": 10,
     "metadata": {},
     "output_type": "execute_result"
    }
   ],
   "source": [
    "df"
   ]
  },
  {
   "cell_type": "code",
   "execution_count": 11,
   "metadata": {
    "colab": {
     "base_uri": "https://localhost:8080/"
    },
    "id": "axOjxin7oO4y",
    "outputId": "a3752da1-fd0e-428f-9f9a-7ccf3ca0c17e"
   },
   "outputs": [
    {
     "data": {
      "text/plain": [
       "subject               object\n",
       "scan-number            int64\n",
       "HC-AUD-match         float64\n",
       "subject-group         object\n",
       "Study                 object\n",
       "Diagnosis             object\n",
       "Age                  float64\n",
       "age-subject-group     object\n",
       "Sex                   object\n",
       "AUDIT-Total          float64\n",
       "MMSE                 float64\n",
       "dtype: object"
      ]
     },
     "execution_count": 11,
     "metadata": {},
     "output_type": "execute_result"
    }
   ],
   "source": [
    "df.dtypes"
   ]
  },
  {
   "cell_type": "code",
   "execution_count": 12,
   "metadata": {
    "id": "jLeBFgYopKiM"
   },
   "outputs": [],
   "source": [
    "import numpy as np\n",
    "temp_df = df.drop(labels=['HC-AUD-match','AUDIT-Total','MMSE'],axis='columns')\n",
    "new_df = temp_df.dropna(axis='index',how='any')"
   ]
  },
  {
   "cell_type": "code",
   "execution_count": 13,
   "metadata": {
    "colab": {
     "base_uri": "https://localhost:8080/"
    },
    "id": "kkY5QtI1qIH0",
    "outputId": "fae9d363-f87f-4016-99fe-a547a53a253f"
   },
   "outputs": [
    {
     "data": {
      "text/plain": [
       "subject              0\n",
       "scan-number          0\n",
       "subject-group        0\n",
       "Study                0\n",
       "Diagnosis            0\n",
       "Age                  0\n",
       "age-subject-group    0\n",
       "Sex                  0\n",
       "dtype: int64"
      ]
     },
     "execution_count": 13,
     "metadata": {},
     "output_type": "execute_result"
    }
   ],
   "source": [
    "new_df.isna().sum()"
   ]
  },
  {
   "cell_type": "code",
   "execution_count": 14,
   "metadata": {
    "colab": {
     "base_uri": "https://localhost:8080/"
    },
    "id": "8ZAYViL-Jb-L",
    "outputId": "409afcf4-b6d2-4780-cc05-4af57acfbd89"
   },
   "outputs": [
    {
     "data": {
      "text/plain": [
       "IAM               236\n",
       "ADNI               51\n",
       "PATRIOT            11\n",
       "COUPLES             7\n",
       "PANACEA             6\n",
       "PATRIOT-prelim      3\n",
       "HEART               1\n",
       "Name: Study, dtype: int64"
      ]
     },
     "execution_count": 14,
     "metadata": {},
     "output_type": "execute_result"
    }
   ],
   "source": [
    "df['Study'].value_counts()"
   ]
  },
  {
   "cell_type": "code",
   "execution_count": 15,
   "metadata": {
    "colab": {
     "base_uri": "https://localhost:8080/"
    },
    "id": "8Nzxb-kkJzw2",
    "outputId": "0d5993ed-190c-433f-d750-0f4178e347a7"
   },
   "outputs": [
    {
     "data": {
      "text/plain": [
       "array(['ADNI', 'HEART', 'COUPLES', 'PANACEA', 'PATRIOT-prelim', 'PATRIOT',\n",
       "       'IAM'], dtype=object)"
      ]
     },
     "execution_count": 15,
     "metadata": {},
     "output_type": "execute_result"
    }
   ],
   "source": [
    "df['Study'].unique()"
   ]
  },
  {
   "cell_type": "code",
   "execution_count": 16,
   "metadata": {
    "colab": {
     "base_uri": "https://localhost:8080/"
    },
    "id": "COZUUDiLJeTe",
    "outputId": "d60ed1cf-f326-4cf2-c71e-d16d4595d52b"
   },
   "outputs": [
    {
     "data": {
      "text/plain": [
       "array(['MCI', 'AD', 'AUD', 'HC'], dtype=object)"
      ]
     },
     "execution_count": 16,
     "metadata": {},
     "output_type": "execute_result"
    }
   ],
   "source": [
    "df['Diagnosis'].unique()"
   ]
  },
  {
   "cell_type": "code",
   "execution_count": 17,
   "metadata": {
    "colab": {
     "base_uri": "https://localhost:8080/"
    },
    "id": "acjwkSoBJh5p",
    "outputId": "0f34c7a5-60ee-4197-c0e7-d76f3af212d2"
   },
   "outputs": [
    {
     "data": {
      "text/plain": [
       "array(['M', 'F'], dtype=object)"
      ]
     },
     "execution_count": 17,
     "metadata": {},
     "output_type": "execute_result"
    }
   ],
   "source": [
    "df['Sex'].unique()"
   ]
  },
  {
   "cell_type": "code",
   "execution_count": 18,
   "metadata": {
    "id": "f35m_z8NJktl"
   },
   "outputs": [
    {
     "data": {
      "text/plain": [
       "HC        248\n",
       "AD-MCI     39\n",
       "AUD        28\n",
       "Name: subject-group, dtype: int64"
      ]
     },
     "execution_count": 18,
     "metadata": {},
     "output_type": "execute_result"
    }
   ],
   "source": [
    "df['subject-group'].value_counts()"
   ]
  },
  {
   "cell_type": "code",
   "execution_count": 19,
   "metadata": {
    "id": "nR83p4yHJm9i"
   },
   "outputs": [
    {
     "data": {
      "text/plain": [
       "elderly     163\n",
       "mid-life    150\n",
       "Name: age-subject-group, dtype: int64"
      ]
     },
     "execution_count": 19,
     "metadata": {},
     "output_type": "execute_result"
    }
   ],
   "source": [
    "df['age-subject-group'].value_counts()"
   ]
  },
  {
   "cell_type": "code",
   "execution_count": 20,
   "metadata": {
    "colab": {
     "base_uri": "https://localhost:8080/"
    },
    "id": "VFbN5US1qPtf",
    "outputId": "6c50e542-94d8-4d17-eed1-f036ffef47b1"
   },
   "outputs": [
    {
     "data": {
      "text/plain": [
       "subject               object\n",
       "scan-number            int64\n",
       "subject-group         object\n",
       "Study                 object\n",
       "Diagnosis             object\n",
       "Age                  float64\n",
       "age-subject-group     object\n",
       "Sex                   object\n",
       "dtype: object"
      ]
     },
     "execution_count": 20,
     "metadata": {},
     "output_type": "execute_result"
    }
   ],
   "source": [
    "new_df.dtypes"
   ]
  },
  {
   "cell_type": "markdown",
   "metadata": {
    "id": "Dvq0xSgNLooi"
   },
   "source": [
    "OUTLIERS REMOVAL HERE"
   ]
  },
  {
   "cell_type": "code",
   "execution_count": 21,
   "metadata": {
    "colab": {
     "base_uri": "https://localhost:8080/"
    },
    "id": "HSujz5mwq9Dk",
    "outputId": "42f003e7-e670-4875-f0d2-5ed222c4f53a"
   },
   "outputs": [
    {
     "name": "stdout",
     "output_type": "stream",
     "text": [
      "-33.88364436246062 128.12364436246062\n",
      "-1.8259871065449573 106.44598710654496\n"
     ]
    }
   ],
   "source": [
    "\n",
    "import pandas as pd\n",
    "import numpy as np\n",
    "\n",
    "df = pd.DataFrame(columns=['scan-number', 'Age'])  # create an empty DataFrame\n",
    "\n",
    "# populate the DataFrame with some random data\n",
    "for i in range(100):\n",
    "    df.loc[i] = [np.random.randint(1, 100), np.random.randint(20, 80)]\n",
    "\n",
    "for col_name in ['scan-number', 'Age']:\n",
    "    col_mean = np.mean(df[col_name])\n",
    "    col_std = np.std(df[col_name])\n",
    "    cut_off = col_std * 3\n",
    "    lower, upper = col_mean - cut_off, col_mean + cut_off\n",
    "    print(lower, upper)\n",
    "    df = df[(df[col_name] > lower) & (df[col_name] < upper)]  # remove outliers\n",
    "    outliers_removed = [df.iloc[x] for x in range(len(df)) if (df[col_name].iloc[x] > lower) and (df[col_name].iloc[x] < upper)]\n",
    "\n",
    "\n"
   ]
  },
  {
   "cell_type": "code",
   "execution_count": 22,
   "metadata": {
    "colab": {
     "base_uri": "https://localhost:8080/",
     "height": 297
    },
    "id": "9_Mgg6wDtIWh",
    "outputId": "3a6da516-a8a5-4cd3-e4c6-6bca6193a7a7"
   },
   "outputs": [
    {
     "data": {
      "text/html": [
       "<div>\n",
       "<style scoped>\n",
       "    .dataframe tbody tr th:only-of-type {\n",
       "        vertical-align: middle;\n",
       "    }\n",
       "\n",
       "    .dataframe tbody tr th {\n",
       "        vertical-align: top;\n",
       "    }\n",
       "\n",
       "    .dataframe thead th {\n",
       "        text-align: right;\n",
       "    }\n",
       "</style>\n",
       "<table border=\"1\" class=\"dataframe\">\n",
       "  <thead>\n",
       "    <tr style=\"text-align: right;\">\n",
       "      <th></th>\n",
       "      <th>scan-number</th>\n",
       "      <th>Age</th>\n",
       "    </tr>\n",
       "  </thead>\n",
       "  <tbody>\n",
       "    <tr>\n",
       "      <th>count</th>\n",
       "      <td>313.000000</td>\n",
       "      <td>313.000000</td>\n",
       "    </tr>\n",
       "    <tr>\n",
       "      <th>mean</th>\n",
       "      <td>1.373802</td>\n",
       "      <td>65.703003</td>\n",
       "    </tr>\n",
       "    <tr>\n",
       "      <th>std</th>\n",
       "      <td>0.484587</td>\n",
       "      <td>9.781700</td>\n",
       "    </tr>\n",
       "    <tr>\n",
       "      <th>min</th>\n",
       "      <td>1.000000</td>\n",
       "      <td>45.000000</td>\n",
       "    </tr>\n",
       "    <tr>\n",
       "      <th>25%</th>\n",
       "      <td>1.000000</td>\n",
       "      <td>58.020000</td>\n",
       "    </tr>\n",
       "    <tr>\n",
       "      <th>50%</th>\n",
       "      <td>1.000000</td>\n",
       "      <td>66.750000</td>\n",
       "    </tr>\n",
       "    <tr>\n",
       "      <th>75%</th>\n",
       "      <td>2.000000</td>\n",
       "      <td>73.000000</td>\n",
       "    </tr>\n",
       "    <tr>\n",
       "      <th>max</th>\n",
       "      <td>2.000000</td>\n",
       "      <td>84.660000</td>\n",
       "    </tr>\n",
       "  </tbody>\n",
       "</table>\n",
       "</div>"
      ],
      "text/plain": [
       "       scan-number         Age\n",
       "count   313.000000  313.000000\n",
       "mean      1.373802   65.703003\n",
       "std       0.484587    9.781700\n",
       "min       1.000000   45.000000\n",
       "25%       1.000000   58.020000\n",
       "50%       1.000000   66.750000\n",
       "75%       2.000000   73.000000\n",
       "max       2.000000   84.660000"
      ]
     },
     "execution_count": 22,
     "metadata": {},
     "output_type": "execute_result"
    }
   ],
   "source": [
    "new_df.describe()"
   ]
  },
  {
   "cell_type": "code",
   "execution_count": 23,
   "metadata": {
    "colab": {
     "base_uri": "https://localhost:8080/",
     "height": 111
    },
    "id": "jMAiWBbpwIeY",
    "outputId": "883f3f8e-206e-48dd-c9e9-afce4a2e3d17"
   },
   "outputs": [
    {
     "data": {
      "text/html": [
       "<div>\n",
       "<style scoped>\n",
       "    .dataframe tbody tr th:only-of-type {\n",
       "        vertical-align: middle;\n",
       "    }\n",
       "\n",
       "    .dataframe tbody tr th {\n",
       "        vertical-align: top;\n",
       "    }\n",
       "\n",
       "    .dataframe thead th {\n",
       "        text-align: right;\n",
       "    }\n",
       "</style>\n",
       "<table border=\"1\" class=\"dataframe\">\n",
       "  <thead>\n",
       "    <tr style=\"text-align: right;\">\n",
       "      <th></th>\n",
       "      <th>scan-number</th>\n",
       "      <th>Age</th>\n",
       "    </tr>\n",
       "  </thead>\n",
       "  <tbody>\n",
       "    <tr>\n",
       "      <th>scan-number</th>\n",
       "      <td>1.000000</td>\n",
       "      <td>0.014381</td>\n",
       "    </tr>\n",
       "    <tr>\n",
       "      <th>Age</th>\n",
       "      <td>0.014381</td>\n",
       "      <td>1.000000</td>\n",
       "    </tr>\n",
       "  </tbody>\n",
       "</table>\n",
       "</div>"
      ],
      "text/plain": [
       "             scan-number       Age\n",
       "scan-number     1.000000  0.014381\n",
       "Age             0.014381  1.000000"
      ]
     },
     "execution_count": 23,
     "metadata": {},
     "output_type": "execute_result"
    }
   ],
   "source": [
    "new_df.corr()"
   ]
  },
  {
   "cell_type": "code",
   "execution_count": 24,
   "metadata": {
    "colab": {
     "base_uri": "https://localhost:8080/"
    },
    "id": "tCSEwinnwQYO",
    "outputId": "7ce755d6-3a7b-42ff-c397-2c121de759ae"
   },
   "outputs": [
    {
     "data": {
      "text/plain": [
       "subject               object\n",
       "scan-number            int64\n",
       "subject-group         object\n",
       "Study                 object\n",
       "Diagnosis             object\n",
       "Age                  float64\n",
       "age-subject-group     object\n",
       "Sex                   object\n",
       "dtype: object"
      ]
     },
     "execution_count": 24,
     "metadata": {},
     "output_type": "execute_result"
    }
   ],
   "source": [
    "new_df.dtypes"
   ]
  },
  {
   "cell_type": "code",
   "execution_count": 25,
   "metadata": {
    "colab": {
     "base_uri": "https://localhost:8080/",
     "height": 419
    },
    "id": "6RGGktc7G_pS",
    "outputId": "28b8eed2-faac-42d6-a57d-9fa90cd3ceb4"
   },
   "outputs": [
    {
     "data": {
      "text/html": [
       "<div>\n",
       "<style scoped>\n",
       "    .dataframe tbody tr th:only-of-type {\n",
       "        vertical-align: middle;\n",
       "    }\n",
       "\n",
       "    .dataframe tbody tr th {\n",
       "        vertical-align: top;\n",
       "    }\n",
       "\n",
       "    .dataframe thead th {\n",
       "        text-align: right;\n",
       "    }\n",
       "</style>\n",
       "<table border=\"1\" class=\"dataframe\">\n",
       "  <thead>\n",
       "    <tr style=\"text-align: right;\">\n",
       "      <th></th>\n",
       "      <th>subject</th>\n",
       "      <th>scan-number</th>\n",
       "      <th>subject-group</th>\n",
       "      <th>Study</th>\n",
       "      <th>Diagnosis</th>\n",
       "      <th>Age</th>\n",
       "      <th>age-subject-group</th>\n",
       "      <th>Sex</th>\n",
       "    </tr>\n",
       "  </thead>\n",
       "  <tbody>\n",
       "    <tr>\n",
       "      <th>0</th>\n",
       "      <td>002_S_4171</td>\n",
       "      <td>1</td>\n",
       "      <td>AD-MCI</td>\n",
       "      <td>ADNI</td>\n",
       "      <td>MCI</td>\n",
       "      <td>69.00</td>\n",
       "      <td>elderly</td>\n",
       "      <td>M</td>\n",
       "    </tr>\n",
       "    <tr>\n",
       "      <th>1</th>\n",
       "      <td>002_S_4229</td>\n",
       "      <td>1</td>\n",
       "      <td>AD-MCI</td>\n",
       "      <td>ADNI</td>\n",
       "      <td>MCI</td>\n",
       "      <td>66.00</td>\n",
       "      <td>elderly</td>\n",
       "      <td>M</td>\n",
       "    </tr>\n",
       "    <tr>\n",
       "      <th>2</th>\n",
       "      <td>002_S_4473</td>\n",
       "      <td>1</td>\n",
       "      <td>AD-MCI</td>\n",
       "      <td>ADNI</td>\n",
       "      <td>MCI</td>\n",
       "      <td>75.00</td>\n",
       "      <td>elderly</td>\n",
       "      <td>M</td>\n",
       "    </tr>\n",
       "    <tr>\n",
       "      <th>3</th>\n",
       "      <td>002_S_4521</td>\n",
       "      <td>1</td>\n",
       "      <td>AD-MCI</td>\n",
       "      <td>ADNI</td>\n",
       "      <td>MCI</td>\n",
       "      <td>70.00</td>\n",
       "      <td>elderly</td>\n",
       "      <td>M</td>\n",
       "    </tr>\n",
       "    <tr>\n",
       "      <th>4</th>\n",
       "      <td>002_S_4799</td>\n",
       "      <td>1</td>\n",
       "      <td>AD-MCI</td>\n",
       "      <td>ADNI</td>\n",
       "      <td>MCI</td>\n",
       "      <td>68.00</td>\n",
       "      <td>elderly</td>\n",
       "      <td>M</td>\n",
       "    </tr>\n",
       "    <tr>\n",
       "      <th>...</th>\n",
       "      <td>...</td>\n",
       "      <td>...</td>\n",
       "      <td>...</td>\n",
       "      <td>...</td>\n",
       "      <td>...</td>\n",
       "      <td>...</td>\n",
       "      <td>...</td>\n",
       "      <td>...</td>\n",
       "    </tr>\n",
       "    <tr>\n",
       "      <th>309</th>\n",
       "      <td>1124R2</td>\n",
       "      <td>2</td>\n",
       "      <td>HC</td>\n",
       "      <td>IAM</td>\n",
       "      <td>HC</td>\n",
       "      <td>62.85</td>\n",
       "      <td>mid-life</td>\n",
       "      <td>M</td>\n",
       "    </tr>\n",
       "    <tr>\n",
       "      <th>310</th>\n",
       "      <td>1125R2</td>\n",
       "      <td>2</td>\n",
       "      <td>HC</td>\n",
       "      <td>IAM</td>\n",
       "      <td>HC</td>\n",
       "      <td>63.07</td>\n",
       "      <td>mid-life</td>\n",
       "      <td>F</td>\n",
       "    </tr>\n",
       "    <tr>\n",
       "      <th>311</th>\n",
       "      <td>1126R2</td>\n",
       "      <td>2</td>\n",
       "      <td>HC</td>\n",
       "      <td>IAM</td>\n",
       "      <td>HC</td>\n",
       "      <td>76.70</td>\n",
       "      <td>elderly</td>\n",
       "      <td>M</td>\n",
       "    </tr>\n",
       "    <tr>\n",
       "      <th>312</th>\n",
       "      <td>1127R2</td>\n",
       "      <td>2</td>\n",
       "      <td>HC</td>\n",
       "      <td>IAM</td>\n",
       "      <td>HC</td>\n",
       "      <td>56.98</td>\n",
       "      <td>mid-life</td>\n",
       "      <td>F</td>\n",
       "    </tr>\n",
       "    <tr>\n",
       "      <th>313</th>\n",
       "      <td>1128R2</td>\n",
       "      <td>2</td>\n",
       "      <td>HC</td>\n",
       "      <td>IAM</td>\n",
       "      <td>HC</td>\n",
       "      <td>55.37</td>\n",
       "      <td>mid-life</td>\n",
       "      <td>M</td>\n",
       "    </tr>\n",
       "  </tbody>\n",
       "</table>\n",
       "<p>313 rows × 8 columns</p>\n",
       "</div>"
      ],
      "text/plain": [
       "        subject  scan-number subject-group Study Diagnosis    Age  \\\n",
       "0    002_S_4171            1        AD-MCI  ADNI       MCI  69.00   \n",
       "1    002_S_4229            1        AD-MCI  ADNI       MCI  66.00   \n",
       "2    002_S_4473            1        AD-MCI  ADNI       MCI  75.00   \n",
       "3    002_S_4521            1        AD-MCI  ADNI       MCI  70.00   \n",
       "4    002_S_4799            1        AD-MCI  ADNI       MCI  68.00   \n",
       "..          ...          ...           ...   ...       ...    ...   \n",
       "309      1124R2            2            HC   IAM        HC  62.85   \n",
       "310      1125R2            2            HC   IAM        HC  63.07   \n",
       "311      1126R2            2            HC   IAM        HC  76.70   \n",
       "312      1127R2            2            HC   IAM        HC  56.98   \n",
       "313      1128R2            2            HC   IAM        HC  55.37   \n",
       "\n",
       "    age-subject-group Sex  \n",
       "0             elderly   M  \n",
       "1             elderly   M  \n",
       "2             elderly   M  \n",
       "3             elderly   M  \n",
       "4             elderly   M  \n",
       "..                ...  ..  \n",
       "309          mid-life   M  \n",
       "310          mid-life   F  \n",
       "311           elderly   M  \n",
       "312          mid-life   F  \n",
       "313          mid-life   M  \n",
       "\n",
       "[313 rows x 8 columns]"
      ]
     },
     "execution_count": 25,
     "metadata": {},
     "output_type": "execute_result"
    }
   ],
   "source": [
    "new_df"
   ]
  },
  {
   "cell_type": "code",
   "execution_count": 26,
   "metadata": {
    "colab": {
     "base_uri": "https://localhost:8080/",
     "height": 316
    },
    "id": "zpaaepZXIIWZ",
    "outputId": "3a028328-a4f7-4731-ece7-ff775332a987"
   },
   "outputs": [
    {
     "data": {
      "text/plain": [
       "(array([12., 23., 27., 36., 50., 31., 52., 40., 21., 21.]),\n",
       " array([45.   , 48.966, 52.932, 56.898, 60.864, 64.83 , 68.796, 72.762,\n",
       "        76.728, 80.694, 84.66 ]),\n",
       " <BarContainer object of 10 artists>)"
      ]
     },
     "execution_count": 26,
     "metadata": {},
     "output_type": "execute_result"
    },
    {
     "data": {
      "image/png": "[encoded data removed]",
      "text/plain": [
       "<Figure size 640x480 with 1 Axes>"
      ]
     },
     "metadata": {},
     "output_type": "display_data"
    }
   ],
   "source": [
    "import matplotlib.pyplot as plt\n",
    "plt.hist(new_df['Age'])"
   ]
  },
  {
   "cell_type": "code",
   "execution_count": 27,
   "metadata": {
    "colab": {
     "base_uri": "https://localhost:8080/",
     "height": 316
    },
    "id": "sk2Gqm9CKxa4",
    "outputId": "96185f67-2c5b-4ca2-de97-51a75dccc478"
   },
   "outputs": [
    {
     "data": {
      "text/plain": [
       "(array([196.,   0.,   0.,   0.,   0.,   0.,   0.,   0.,   0., 117.]),\n",
       " array([1. , 1.1, 1.2, 1.3, 1.4, 1.5, 1.6, 1.7, 1.8, 1.9, 2. ]),\n",
       " <BarContainer object of 10 artists>)"
      ]
     },
     "execution_count": 27,
     "metadata": {},
     "output_type": "execute_result"
    },
    {
     "data": {
      "image/png": "[encoded data removed]",
      "text/plain": [
       "<Figure size 640x480 with 1 Axes>"
      ]
     },
     "metadata": {},
     "output_type": "display_data"
    }
   ],
   "source": [
    "plt.hist(new_df['scan-number'])"
   ]
  },
  {
   "cell_type": "code",
   "execution_count": 39,
   "metadata": {
    "id": "xpVOPVLuK1q7"
   },
   "outputs": [
    {
     "data": {
      "image/png": "[encoded data removed]",
      "text/plain": [
       "<Figure size 640x480 with 1 Axes>"
      ]
     },
     "metadata": {},
     "output_type": "display_data"
    },
    {
     "name": "stdout",
     "output_type": "stream",
     "text": [
      "       Age Diagnosis\n",
      "0    69.00       MCI\n",
      "1    66.00       MCI\n",
      "2    75.00       MCI\n",
      "3    70.00       MCI\n",
      "4    68.00       MCI\n",
      "..     ...       ...\n",
      "309  62.85        HC\n",
      "310  63.07        HC\n",
      "311  76.70        HC\n",
      "312  56.98        HC\n",
      "313  55.37        HC\n",
      "\n",
      "[313 rows x 2 columns]\n"
     ]
    }
   ],
   "source": [
    "\n",
    "plt.scatter(new_df['Age'], new_df['Diagnosis'])\n",
    "plt.xlabel('Age')\n",
    "plt.ylabel('Diagnosis')\n",
    "plt.title('Relationship between Age and Diagnosis')\n",
    "plt.show()\n",
    "print(new_df[['Age', 'Diagnosis']])"
   ]
  },
  {
   "cell_type": "code",
   "execution_count": null,
   "metadata": {},
   "outputs": [],
   "source": []
  },
  {
   "cell_type": "code",
   "execution_count": 37,
   "metadata": {},
   "outputs": [
    {
     "data": {
      "image/png": "[encoded data removed]",
      "text/plain": [
       "<Figure size 640x480 with 1 Axes>"
      ]
     },
     "metadata": {},
     "output_type": "display_data"
    },
    {
     "name": "stdout",
     "output_type": "stream",
     "text": [
      "Sex            F     M\n",
      "Diagnosis             \n",
      "AD           4.0  12.0\n",
      "AUD          9.0  19.0\n",
      "HC         176.0  70.0\n",
      "MCI          NaN  23.0\n"
     ]
    }
   ],
   "source": [
    "import matplotlib.pyplot as plt\n",
    "\n",
    "# create a pivot table with counts of Diagnosis by Sex\n",
    "sex_pivot = new_df.pivot_table(index='Diagnosis', columns='Sex', values='Age', aggfunc='count')\n",
    "\n",
    "# plot the bar chart\n",
    "sex_pivot.plot(kind='bar')\n",
    "plt.xlabel('Diagnosis')\n",
    "plt.ylabel('Count')\n",
    "plt.title('Counts of Diagnosis by Sex')\n",
    "plt.show()\n",
    "\n",
    "# print the pivot table\n",
    "print(sex_pivot)\n"
   ]
  },
  {
   "cell_type": "code",
   "execution_count": null,
   "metadata": {},
   "outputs": [],
   "source": []
  }
 ],
 "metadata": {
  "colab": {
   "provenance": []
  },
  "kernelspec": {
   "display_name": "Python 3 (ipykernel)",
   "language": "python",
   "name": "python3"
  },
  "language_info": {
   "codemirror_mode": {
    "name": "ipython",
    "version": 3
   },
   "file_extension": ".py",
   "mimetype": "text/x-python",
   "name": "python",
   "nbconvert_exporter": "python",
   "pygments_lexer": "ipython3",
   "version": "3.9.13"
  }
 },
 "nbformat": 4,
 "nbformat_minor": 1
}
